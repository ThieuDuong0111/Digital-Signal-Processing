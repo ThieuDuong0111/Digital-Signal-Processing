{
 "cells": [
  {
   "cell_type": "code",
   "execution_count": null,
   "metadata": {},
   "outputs": [
    {
     "ename": "ModuleNotFoundError",
     "evalue": "No module named 'svc_infer'",
     "output_type": "error",
     "traceback": [
      "\u001b[1;31m---------------------------------------------------------------------------\u001b[0m",
      "\u001b[1;31mModuleNotFoundError\u001b[0m                       Traceback (most recent call last)",
      "Cell \u001b[1;32mIn [6], line 5\u001b[0m\n\u001b[0;32m      3\u001b[0m \u001b[38;5;28;01mimport\u001b[39;00m \u001b[38;5;21;01mtorchaudio\u001b[39;00m\n\u001b[0;32m      4\u001b[0m \u001b[38;5;28;01mimport\u001b[39;00m \u001b[38;5;21;01mnumpy\u001b[39;00m \u001b[38;5;28;01mas\u001b[39;00m \u001b[38;5;21;01mnp\u001b[39;00m\n\u001b[1;32m----> 5\u001b[0m \u001b[38;5;28;01mfrom\u001b[39;00m \u001b[38;5;21;01msvc_infer\u001b[39;00m \u001b[38;5;28;01mimport\u001b[39;00m Svc\n\u001b[0;32m      7\u001b[0m \u001b[38;5;66;03m# Load mô hình đã huấn luyện\u001b[39;00m\n\u001b[0;32m      8\u001b[0m model_path \u001b[38;5;241m=\u001b[39m \u001b[38;5;124m\"\u001b[39m\u001b[38;5;124mSlyCooper_336e_14112s.pth\u001b[39m\u001b[38;5;124m\"\u001b[39m\n",
      "\u001b[1;31mModuleNotFoundError\u001b[0m: No module named 'svc_infer'"
     ]
    }
   ],
   "source": [
    "# import torch\n",
    "# import librosa\n",
    "# import torchaudio\n",
    "# import numpy as np\n",
    "# from svc_infer import Svc\n",
    "\n",
    "# # Load mô hình đã huấn luyện\n",
    "# model_path = \"checkpoints/best_model.pth\"\n",
    "# svc = Svc(model_path)\n",
    "\n",
    "# # Load file audio đầu vào (giọng nam)\n",
    "# input_audio, sr = librosa.load(\"data/test/male_voice.wav\", sr=44100)\n",
    "\n",
    "# # Chuyển đổi giọng nói sang nữ\n",
    "# converted_audio = svc.infer(input_audio, src_pitch=1.0, tgt_pitch=-3.0)  # Điều chỉnh pitch để tạo giọng nữ\n",
    "\n",
    "# # Lưu file kết quả\n",
    "# torchaudio.save(\"output_female.wav\", torch.tensor(converted_audio), sr)\n"
   ]
  }
 ],
 "metadata": {
  "kernelspec": {
   "display_name": "Python 3",
   "language": "python",
   "name": "python3"
  },
  "language_info": {
   "codemirror_mode": {
    "name": "ipython",
    "version": 3
   },
   "file_extension": ".py",
   "mimetype": "text/x-python",
   "name": "python",
   "nbconvert_exporter": "python",
   "pygments_lexer": "ipython3",
   "version": "3.11.7"
  }
 },
 "nbformat": 4,
 "nbformat_minor": 2
}
